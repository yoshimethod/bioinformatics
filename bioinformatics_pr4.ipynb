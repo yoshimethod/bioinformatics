{
  "nbformat": 4,
  "nbformat_minor": 0,
  "metadata": {
    "colab": {
      "provenance": [],
      "gpuType": "T4",
      "authorship_tag": "ABX9TyPzzYOi8y3m5rDwDutI561R",
      "include_colab_link": true
    },
    "kernelspec": {
      "name": "python3",
      "display_name": "Python 3"
    },
    "language_info": {
      "name": "python"
    },
    "accelerator": "GPU"
  },
  "cells": [
    {
      "cell_type": "markdown",
      "metadata": {
        "id": "view-in-github",
        "colab_type": "text"
      },
      "source": [
        "<a href=\"https://colab.research.google.com/github/yoshimethod/bioinformatics/blob/main/bioinformatics_pr4.ipynb\" target=\"_parent\"><img src=\"https://colab.research.google.com/assets/colab-badge.svg\" alt=\"Open In Colab\"/></a>"
      ]
    },
    {
      "cell_type": "code",
      "execution_count": null,
      "metadata": {
        "id": "QraufWJCl3HT"
      },
      "outputs": [],
      "source": [
        "!pip install torchmetrics==0.7.1\n",
        "!pip install biopython"
      ]
    },
    {
      "cell_type": "code",
      "source": [
        "import os\n",
        "import urllib.request\n",
        "import numpy as np\n",
        "import pandas as pd\n",
        "import torch\n",
        "import torch.utils.data as data\n",
        "import torch.nn as nn\n",
        "import torch.nn.functional\n",
        "import torch.optim\n",
        "from sklearn.metrics import accuracy_score\n",
        "from torchmetrics.functional import precision_recall\n",
        "import matplotlib\n",
        "import matplotlib.pyplot as plt\n",
        "import Bio\n",
        "from Bio.Seq import Seq"
      ],
      "metadata": {
        "id": "C1Q3t6MemzL8"
      },
      "execution_count": 2,
      "outputs": []
    },
    {
      "cell_type": "code",
      "source": [
        "normal_rna =Seq('GCATGCTGCATGCATGATGCCATGCATGCTGCATGCTGCATG')\n",
        "tumor_rna  =Seq('GCATGCTGCATGCATGATGCCACGCATGCTGCATGCTGCATG')\n",
        "\n",
        "print('野生型RNA配列:..' + str(normal_rna) + \"..\")\n",
        "print('腫瘍特異的RNA配列:..' + str(tumor_rna) + \"..\")\n",
        "\n",
        "print('野生型タンパク質配列:..' + str(normal_rna.translate()) +\"..\")\n",
        "print('腫瘍特異的タンパク質配列:..' + str(tumor_rna.translate()) + \"..\")"
      ],
      "metadata": {
        "colab": {
          "base_uri": "https://localhost:8080/"
        },
        "id": "MrqoFpbNpp7s",
        "outputId": "308f1979-ae00-43fb-f944-ebc7869c620d"
      },
      "execution_count": 3,
      "outputs": [
        {
          "output_type": "stream",
          "name": "stdout",
          "text": [
            "野生型RNA配列:..GCATGCTGCATGCATGATGCCATGCATGCTGCATGCTGCATG..\n",
            "腫瘍特異的RNA配列:..GCATGCTGCATGCATGATGCCACGCATGCTGCATGCTGCATG..\n",
            "野生型タンパク質配列:..ACCMHDAMHAACCM..\n",
            "腫瘍特異的タンパク質配列:..ACCMHDATHAACCM..\n"
          ]
        }
      ]
    },
    {
      "cell_type": "code",
      "source": [
        "'''\n",
        "1. まずはデータをダウンロードする\n",
        "'''\n",
        "\n",
        "data_dir = './pepdata/'\n",
        "if not os.path.exists(data_dir):\n",
        "  os.mkdir(data_dir)\n",
        "\n",
        "train_url = 'https://github.com/haoqing12/APPM/raw/master/DATA/train_data/A0301'\n",
        "test_url  = 'https://github.com/haoqing12/APPM/raw/master/DATA/test_data/A0301'\n",
        "\n",
        "train_save_path = os.path.join(data_dir, 'train_A0301.csv')\n",
        "test_save_path  = os.path.join(data_dir, 'test_A0301.csv')\n",
        "\n",
        "urllib.request.urlretrieve(train_url, train_save_path)\n",
        "urllib.request.urlretrieve(test_url, test_save_path)\n",
        "\n",
        "print('Stored training-data name is', train_save_path)\n",
        "print('Stored test-data name is', test_save_path)\n",
        "\n",
        "pd.read_csv(train_save_path, nrows=5).head"
      ],
      "metadata": {
        "colab": {
          "base_uri": "https://localhost:8080/",
          "height": 221
        },
        "id": "CXLrLIePrX_N",
        "outputId": "a3e78e6f-91e6-4797-e632-44589ccbabdb"
      },
      "execution_count": 4,
      "outputs": [
        {
          "output_type": "stream",
          "name": "stdout",
          "text": [
            "Stored training-data name is ./pepdata/train_A0301.csv\n",
            "Stored test-data name is ./pepdata/test_A0301.csv\n"
          ]
        },
        {
          "output_type": "execute_result",
          "data": {
            "text/plain": [
              "<bound method NDFrame.head of       Peptide      HLA  BindingCategory\n",
              "0   GTFGGLGSK  A*03:01                1\n",
              "1   TTQDPLSNK  A*03:01                1\n",
              "2  TVAGGAWTYK  A*03:01                1\n",
              "3  FVYDHVFAEK  A*03:01                1\n",
              "4   KVTEWQQTY  A*03:01                1>"
            ],
            "text/html": [
              "<div style=\"max-width:800px; border: 1px solid var(--colab-border-color);\"><style>\n",
              "      pre.function-repr-contents {\n",
              "        overflow-x: auto;\n",
              "        padding: 8px 12px;\n",
              "        max-height: 500px;\n",
              "      }\n",
              "\n",
              "      pre.function-repr-contents.function-repr-contents-collapsed {\n",
              "        cursor: pointer;\n",
              "        max-height: 100px;\n",
              "      }\n",
              "    </style>\n",
              "    <pre style=\"white-space: initial; background:\n",
              "         var(--colab-secondary-surface-color); padding: 8px 12px;\n",
              "         border-bottom: 1px solid var(--colab-border-color);\"><b>pandas.core.generic.NDFrame.head</b><br/>def head(n: int=5) -&gt; NDFrameT</pre><pre class=\"function-repr-contents function-repr-contents-collapsed\" style=\"\"><a class=\"filepath\" style=\"display:none\" href=\"#\">/usr/local/lib/python3.10/dist-packages/pandas/core/generic.py</a>Return the first `n` rows.\n",
              "\n",
              "This function returns the first `n` rows for the object based\n",
              "on position. It is useful for quickly testing if your object\n",
              "has the right type of data in it.\n",
              "\n",
              "For negative values of `n`, this function returns all rows except\n",
              "the last `|n|` rows, equivalent to ``df[:n]``.\n",
              "\n",
              "If n is larger than the number of rows, this function returns all rows.\n",
              "\n",
              "Parameters\n",
              "----------\n",
              "n : int, default 5\n",
              "    Number of rows to select.\n",
              "\n",
              "Returns\n",
              "-------\n",
              "same type as caller\n",
              "    The first `n` rows of the caller object.\n",
              "\n",
              "See Also\n",
              "--------\n",
              "DataFrame.tail: Returns the last `n` rows.\n",
              "\n",
              "Examples\n",
              "--------\n",
              "&gt;&gt;&gt; df = pd.DataFrame({&#x27;animal&#x27;: [&#x27;alligator&#x27;, &#x27;bee&#x27;, &#x27;falcon&#x27;, &#x27;lion&#x27;,\n",
              "...                    &#x27;monkey&#x27;, &#x27;parrot&#x27;, &#x27;shark&#x27;, &#x27;whale&#x27;, &#x27;zebra&#x27;]})\n",
              "&gt;&gt;&gt; df\n",
              "      animal\n",
              "0  alligator\n",
              "1        bee\n",
              "2     falcon\n",
              "3       lion\n",
              "4     monkey\n",
              "5     parrot\n",
              "6      shark\n",
              "7      whale\n",
              "8      zebra\n",
              "\n",
              "Viewing the first 5 lines\n",
              "\n",
              "&gt;&gt;&gt; df.head()\n",
              "      animal\n",
              "0  alligator\n",
              "1        bee\n",
              "2     falcon\n",
              "3       lion\n",
              "4     monkey\n",
              "\n",
              "Viewing the first `n` lines (three in this case)\n",
              "\n",
              "&gt;&gt;&gt; df.head(3)\n",
              "      animal\n",
              "0  alligator\n",
              "1        bee\n",
              "2     falcon\n",
              "\n",
              "For negative values of `n`\n",
              "\n",
              "&gt;&gt;&gt; df.head(-3)\n",
              "      animal\n",
              "0  alligator\n",
              "1        bee\n",
              "2     falcon\n",
              "3       lion\n",
              "4     monkey\n",
              "5     parrot</pre>\n",
              "      <script>\n",
              "      if (google.colab.kernel.accessAllowed && google.colab.files && google.colab.files.view) {\n",
              "        for (const element of document.querySelectorAll('.filepath')) {\n",
              "          element.style.display = 'block'\n",
              "          element.onclick = (event) => {\n",
              "            event.preventDefault();\n",
              "            event.stopPropagation();\n",
              "            google.colab.files.view(element.textContent, 5559);\n",
              "          };\n",
              "        }\n",
              "      }\n",
              "      for (const element of document.querySelectorAll('.function-repr-contents')) {\n",
              "        element.onclick = (event) => {\n",
              "          event.preventDefault();\n",
              "          event.stopPropagation();\n",
              "          element.classList.toggle('function-repr-contents-collapsed');\n",
              "        };\n",
              "      }\n",
              "      </script>\n",
              "      </div>"
            ]
          },
          "metadata": {},
          "execution_count": 4
        }
      ]
    },
    {
      "cell_type": "code",
      "source": [
        "'''\n",
        "2. トランスフォーマーオブジェクトの作成\n",
        "'''\n",
        "\n",
        "class PepTransform():\n",
        "  allSequences = 'ACEDGFIHKMLNQPSRTWVYZ' #アミノ酸配列\n",
        "  char2int = dict((c, i) for i, c in enumerate(allSequences))\n",
        "\n",
        "  def peptideOneHotMap(self, peptide):\n",
        "    peptide_integar = [self.char2int[char] for char in peptide]\n",
        "    peptide_onehot = list()\n",
        "    for value in peptide_integar:\n",
        "      letter = [0 for _ in range(len(self.allSequences))]\n",
        "      letter[value] = 1\n",
        "      peptide_onehot.append(letter)\n",
        "    return np.asarray(peptide_onehot)\n",
        "\n",
        "  def __init__(self):\n",
        "    '''インスタンス変数の初期化\n",
        "    '''\n",
        "\n",
        "  def __call__(self, peptide):\n",
        "    '''コールバック関数\n",
        "    '''\n",
        "    return self.peptideOneHotMap(peptide)"
      ],
      "metadata": {
        "id": "iuxTSaB9uCH4"
      },
      "execution_count": 5,
      "outputs": []
    },
    {
      "cell_type": "code",
      "source": [
        "'''\n",
        "3. ペプチドの長さを一定に変更する関数を作成\n",
        "'''\n",
        "\n",
        "def complementPeptides(peptides_series):\n",
        "  peptides_list=peptides_series.tolist()\n",
        "\n",
        "  for i in range(len(peptides_list)):\n",
        "    if len(peptides_list[i]) < 11:\n",
        "      peptides_list[i] = peptides_list[i] +'Z' * (11-len(peptides_list[i])) #11未満であれば後ろにZを足す\n",
        "    else:\n",
        "      peptides_list[i] = peptides_list[i][:11] #11以上であれば11番目までを残す\n",
        "  return peptides_list\n",
        "\n",
        "peptides_list = ['ACCMHDACCMHDAAA', 'ACCMHDATH']\n",
        "\n",
        "for i in range(len(peptides_list)):\n",
        "  if len(peptides_list[i]) < 11:\n",
        "    peptides_list[i] = peptides_list[i] +'Z' *(11-len(peptides_list[i]))\n",
        "  else:\n",
        "    peptides_list[i] =peptides_list[i][:11]\n",
        "  print(\"Generated Peptide is: \" + peptides_list[i])"
      ],
      "metadata": {
        "colab": {
          "base_uri": "https://localhost:8080/"
        },
        "id": "y_xiVNQWvdu0",
        "outputId": "573f3189-0a47-439e-e242-5ed94cf41786"
      },
      "execution_count": 6,
      "outputs": [
        {
          "output_type": "stream",
          "name": "stdout",
          "text": [
            "Generated Peptide is: ACCMHDACCMH\n",
            "Generated Peptide is: ACCMHDATHZZ\n"
          ]
        }
      ]
    },
    {
      "cell_type": "code",
      "source": [
        "'''\n",
        "4. 学習に用いるペプチドのデータセットを作成するクラス\n",
        "'''\n",
        "class MakeDataset(data.Dataset):\n",
        "  def __init__(self, save_path, transform=None):\n",
        "    super().__init__()\n",
        "    df = pd.read_csv(save_path, header=0)\n",
        "    df = df[df['Peptide'].str.contains('X')==False]\n",
        "    df = df[df['Peptide'].str.contains('B')==False]\n",
        "    df = df[df['Peptide'].str.contains('U')==False]\n",
        "    print(df)\n",
        "\n",
        "    print('{0}のファイル'.format(save_path))\n",
        "    print('#Original Negative data is: ' + str(df.loc[df['BindingCategory']==0].shape))\n",
        "    print('#Original Positive data is: ' + str(df.loc[df['BindingCategory']==1].shape)\n",
        "    + '\\n')\n",
        "\n",
        "    if 'train' in save_path:\n",
        "      df_0 = df.loc[df['BindingCategory']==0]\n",
        "      df_1 = df.loc[df['BindingCategory']==1]\n",
        "      df = pd.concat([df_0, df_1, df_1], axis=0)\n",
        "      print('オーバーサンプリング後:')\n",
        "      print('#Original Negative data is: ' + str(df.loc[df['BindingCategory']==0].shape))\n",
        "      print('#Original Positive data is: ' + str(df.loc[df['BindingCategory']==1].shape)\n",
        "    + '\\n')\n",
        "\n",
        "    df=df.sample(frac=1).reset_index()\n",
        "    self.peptides=complementPeptides(df['Peptide'])\n",
        "    self.y=df['BindingCategory']\n",
        "    self.transform=transform\n",
        "\n",
        "  def __len__(self):\n",
        "    return len(self.peptides)\n",
        "\n",
        "  def __getitem__(self, index):\n",
        "    peptide_transformed=self.transform(self.peptides[index])\n",
        "    X = torch.from_numpy(peptide_transformed.astype(np.float32)).clone()\n",
        "    Y = torch.tensor(self.y[index], dtype=torch.long).clone()\n",
        "    return torch.reshape(X, (1, X.shape[0], X.shape[1])), Y\n"
      ],
      "metadata": {
        "id": "RPINgb33x3sY"
      },
      "execution_count": 7,
      "outputs": []
    },
    {
      "cell_type": "code",
      "source": [
        "'''\n",
        "5. データローダーの生成\n",
        "'''\n",
        "batch_size = 32\n",
        "\n",
        "train_dataset = MakeDataset(\n",
        "    save_path = train_save_path,\n",
        "    transform = PepTransform()\n",
        ")\n",
        "\n",
        "test_dataset  = MakeDataset(\n",
        "    save_path = test_save_path,\n",
        "    transform = PepTransform()\n",
        ")\n",
        "\n",
        "train_dataloader = torch.utils.data.DataLoader(train_dataset, batch_size=batch_size, shuffle=False)\n",
        "\n",
        "test_dataloader  = torch.utils.data.DataLoader(test_dataset, batch_size=batch_size, shuffle=False)\n",
        "\n",
        "for (x,t) in train_dataloader:\n",
        "  print(x.shape)\n",
        "  print(t.shape)\n",
        "  break\n",
        "\n",
        "for (x,t) in test_dataloader:\n",
        "  print(x.shape)\n",
        "  print(t.shape)\n",
        "  break\n"
      ],
      "metadata": {
        "colab": {
          "base_uri": "https://localhost:8080/"
        },
        "id": "GUSWbzAL4_BZ",
        "outputId": "14f5e3fc-2040-4143-d46e-ce39d56f3974"
      },
      "execution_count": 8,
      "outputs": [
        {
          "output_type": "stream",
          "name": "stdout",
          "text": [
            "           Peptide      HLA  BindingCategory\n",
            "0        GTFGGLGSK  A*03:01                1\n",
            "1        TTQDPLSNK  A*03:01                1\n",
            "2       TVAGGAWTYK  A*03:01                1\n",
            "3       FVYDHVFAEK  A*03:01                1\n",
            "4        KVTEWQQTY  A*03:01                1\n",
            "...            ...      ...              ...\n",
            "77531    TMPSTACHP  A*03:01                0\n",
            "77532    NFVEQNMKI  A*03:01                0\n",
            "77533   IGLRLAQEKA  A*03:01                0\n",
            "77534   GEDGAGAGAE  A*03:01                0\n",
            "77535  ILKHPSLARRI  A*03:01                0\n",
            "\n",
            "[77531 rows x 3 columns]\n",
            "./pepdata/train_A0301.csvのファイル\n",
            "#Original Negative data is: (73112, 3)\n",
            "#Original Positive data is: (4419, 3)\n",
            "\n",
            "オーバーサンプリング後:\n",
            "#Original Negative data is: (73112, 3)\n",
            "#Original Positive data is: (8838, 3)\n",
            "\n",
            "           Peptide      HLA  BindingCategory\n",
            "0      KLLDEAIQAVK  A*03:01                1\n",
            "1        GTYVSSVPR  A*03:01                1\n",
            "2      VLFDTQLIIEK  A*03:01                1\n",
            "3        ASFQSTSVK  A*03:01                1\n",
            "4        LISPIILKK  A*03:01                1\n",
            "...            ...      ...              ...\n",
            "10995  LPYMNVGTLSR  A*03:01                0\n",
            "10996   EYVTLKKMRE  A*03:01                0\n",
            "10997   TDKNFHNDAS  A*03:01                0\n",
            "10998    RGPPGPGEG  A*03:01                0\n",
            "10999   HQKSTPSTKQ  A*03:01                0\n",
            "\n",
            "[10999 rows x 3 columns]\n",
            "./pepdata/test_A0301.csvのファイル\n",
            "#Original Negative data is: (9999, 3)\n",
            "#Original Positive data is: (1000, 3)\n",
            "\n",
            "torch.Size([32, 1, 11, 21])\n",
            "torch.Size([32])\n",
            "torch.Size([32, 1, 11, 21])\n",
            "torch.Size([32])\n"
          ]
        }
      ]
    },
    {
      "cell_type": "code",
      "source": [
        "'''\n",
        "6. 畳み込みニューラルネットワークの構築\n",
        "'''\n",
        "\n",
        "class CNN(nn.Module):\n",
        "  def __init__(self):\n",
        "    super().__init__()\n",
        "    #第１層：畳み込み層1\n",
        "    self.conv1a = nn.Conv2d(in_channels=1,\n",
        "                            out_channels=128,\n",
        "                            kernel_size=(2,2),\n",
        "                            stride=(1,1),\n",
        "                            padding=1,\n",
        "                            padding_mode='zeros')\n",
        "    self.dropout1a = nn.Dropout(0.40)\n",
        "\n",
        "    #第２層：畳み込み層2\n",
        "    self.conv1b = nn.Conv2d(in_channels=128,\n",
        "                          out_channels=128,\n",
        "                          kernel_size=(2,2),\n",
        "                          stride=(2,2),\n",
        "                          padding=1,\n",
        "                          padding_mode='zeros')\n",
        "    self.dropout1b = nn.Dropout(0.40)\n",
        "\n",
        "    #第３層：畳み込み層3\n",
        "    self.conv1c = nn.Conv2d(in_channels=128,\n",
        "                            out_channels=256,\n",
        "                            kernel_size=(2,2),\n",
        "                            stride=(2,2),\n",
        "                            padding=1,\n",
        "                            padding_mode='zeros')\n",
        "    self.dropout1c = nn.Dropout(0.40)\n",
        "\n",
        "    #第４層：畳み込み層4\n",
        "    self.conv1d = nn.Conv2d(in_channels=256,\n",
        "                            out_channels=256,\n",
        "                            kernel_size=(2,2),\n",
        "                            stride=(1,1),\n",
        "                            padding=1,\n",
        "                            padding_mode='zeros')\n",
        "    self.dropout1d =nn.Dropout(0.40)\n",
        "\n",
        "    #第５層：畳み込み層5\n",
        "    self.conv1e = nn.Conv2d(in_channels=256,\n",
        "                            out_channels=256,\n",
        "                            kernel_size=(2,2),\n",
        "                            stride=(1,1),\n",
        "                            padding=1,\n",
        "                            padding_mode='zeros')\n",
        "    self.dropout1e =nn.Dropout(0.40)\n",
        "\n",
        "    #第６層：畳み込み層6\n",
        "    self.conv1f = nn.Conv2d(in_channels=256,\n",
        "                            out_channels=512,\n",
        "                            kernel_size=(1,2),\n",
        "                            stride=(1,2),\n",
        "                            padding=0,\n",
        "                            padding_mode='zeros')\n",
        "    self.dropout1f = nn.Dropout(0.40)\n",
        "\n",
        "    #第７層：畳み込み層7\n",
        "    self.conv1g = nn.Conv2d(in_channels=512,\n",
        "                            out_channels=512,\n",
        "                            kernel_size=(1,1),\n",
        "                            stride=(1,1),\n",
        "                            padding=0,\n",
        "                            padding_mode='zeros')\n",
        "    self.dropout1g = nn.Dropout(0.40)\n",
        "\n",
        "    #第８層：畳み込み層8\n",
        "    self.conv1h = nn.Conv2d(in_channels=512,\n",
        "                            out_channels=256,\n",
        "                            kernel_size=(1,1),\n",
        "                            stride=(1,1),\n",
        "                            padding=0,\n",
        "                            padding_mode='zeros')\n",
        "    self.dropout1 =nn.Dropout(0.50)\n",
        "\n",
        "    #第９層：全結合層\n",
        "    self.fc1 = nn.Linear(256*6*4, 128)\n",
        "    self.dropout2 =nn.Dropout(0.25)\n",
        "\n",
        "    #第１０層：出力層\n",
        "    self.fc2 = nn.Linear(128, 2)\n",
        "\n",
        "  def forward(self, x):\n",
        "    x = torch.relu(self.conv1a(x))\n",
        "    x = self.dropout1a(x)\n",
        "    x = torch.relu(self.conv1b(x))\n",
        "    x = self.dropout1b(x)\n",
        "    x = torch.relu(self.conv1c(x))\n",
        "    x = self.dropout1c(x)\n",
        "    x = torch.relu(self.conv1d(x))\n",
        "    x = self.dropout1d(x)\n",
        "    x = torch.relu(self.conv1e(x))\n",
        "    x = self.dropout1e(x)\n",
        "    x = torch.relu(self.conv1f(x))\n",
        "    x = self.dropout1f(x)\n",
        "    x = torch.relu(self.conv1g(x))\n",
        "    x = self.dropout1g(x)\n",
        "    x = torch.relu(self.conv1h(x))\n",
        "\n",
        "    x = self.dropout1(x)\n",
        "    x = x.view(-1, 256*6*4)\n",
        "    x = torch.relu(self.fc1(x))\n",
        "    x = self.dropout2(x)\n",
        "    x = self.fc2(x)\n",
        "    return x"
      ],
      "metadata": {
        "id": "Bl9QEHusTee_"
      },
      "execution_count": 12,
      "outputs": []
    },
    {
      "cell_type": "code",
      "source": [
        "'''\n",
        "7. モデルのインスタンスを作成\n",
        "'''\n",
        "device = torch.device('cuda' if torch.cuda.is_available() else 'cpu')\n",
        "print(device)\n",
        "model = CNN().to(device)\n",
        "model"
      ],
      "metadata": {
        "colab": {
          "base_uri": "https://localhost:8080/"
        },
        "id": "R_FFLgt2Z--_",
        "outputId": "969acdcf-158a-4b7e-a67b-2fb600d0da41"
      },
      "execution_count": 13,
      "outputs": [
        {
          "output_type": "stream",
          "name": "stdout",
          "text": [
            "cuda\n"
          ]
        },
        {
          "output_type": "execute_result",
          "data": {
            "text/plain": [
              "CNN(\n",
              "  (conv1a): Conv2d(1, 128, kernel_size=(2, 2), stride=(1, 1), padding=(1, 1))\n",
              "  (dropout1a): Dropout(p=0.4, inplace=False)\n",
              "  (conv1b): Conv2d(128, 128, kernel_size=(2, 2), stride=(2, 2), padding=(1, 1))\n",
              "  (dropout1b): Dropout(p=0.4, inplace=False)\n",
              "  (conv1c): Conv2d(128, 256, kernel_size=(2, 2), stride=(2, 2), padding=(1, 1))\n",
              "  (dropout1c): Dropout(p=0.4, inplace=False)\n",
              "  (conv1d): Conv2d(256, 256, kernel_size=(2, 2), stride=(1, 1), padding=(1, 1))\n",
              "  (dropout1d): Dropout(p=0.4, inplace=False)\n",
              "  (conv1e): Conv2d(256, 256, kernel_size=(2, 2), stride=(1, 1), padding=(1, 1))\n",
              "  (dropout1e): Dropout(p=0.4, inplace=False)\n",
              "  (conv1f): Conv2d(256, 512, kernel_size=(1, 2), stride=(1, 2))\n",
              "  (dropout1f): Dropout(p=0.4, inplace=False)\n",
              "  (conv1g): Conv2d(512, 512, kernel_size=(1, 1), stride=(1, 1))\n",
              "  (dropout1g): Dropout(p=0.4, inplace=False)\n",
              "  (conv1h): Conv2d(512, 256, kernel_size=(1, 1), stride=(1, 1))\n",
              "  (dropout1): Dropout(p=0.5, inplace=False)\n",
              "  (fc1): Linear(in_features=6144, out_features=128, bias=True)\n",
              "  (dropout2): Dropout(p=0.25, inplace=False)\n",
              "  (fc2): Linear(in_features=128, out_features=2, bias=True)\n",
              ")"
            ]
          },
          "metadata": {},
          "execution_count": 13
        }
      ]
    },
    {
      "cell_type": "code",
      "source": [
        "'''\n",
        "8. 損失関数とオプティマイザの生成\n",
        "'''\n",
        "criterion = nn.CrossEntropyLoss()\n",
        "optimizer = torch.optim.Adam(model.parameters(), lr=0.001)"
      ],
      "metadata": {
        "id": "QrBP-ejW0Wpc"
      },
      "execution_count": 14,
      "outputs": []
    },
    {
      "cell_type": "code",
      "source": [
        "'''\n",
        "9. パラメータの更新処理\n",
        "'''\n",
        "def train_step(x, target):\n",
        "  model.train()\n",
        "  preds=model(x)\n",
        "  pr = precision_recall(preds, target, average='macro', num_classes=2)\n",
        "  loss =criterion(preds, target)\n",
        "  optimizer.zero_grad()\n",
        "  loss.backward()\n",
        "  optimizer.step()\n",
        "  return loss, preds, pr[0], pr[1]"
      ],
      "metadata": {
        "id": "pvRz6gY60j6h"
      },
      "execution_count": 15,
      "outputs": []
    },
    {
      "cell_type": "code",
      "source": [
        "'''\n",
        "10. 評価用データセットを用いてモデルの評価を行う関数\n",
        "'''\n",
        "def test_step(x, target):\n",
        "  model.eval()\n",
        "  preds = model(x)\n",
        "  pr = precision_recall(preds, target, average='macro', num_classes=2)\n",
        "  loss = criterion(preds, t)\n",
        "  return loss, preds, pr[0], pr[1]"
      ],
      "metadata": {
        "id": "Xn9Xrtvj08CN"
      },
      "execution_count": 16,
      "outputs": []
    },
    {
      "cell_type": "code",
      "source": [
        "'''\n",
        "11. モデルを使用して学習する\n",
        "'''\n",
        "epochs = 120\n",
        "history = {'loss':[], 'accuracy':[], 'precision':[], 'recall':[], 'test_loss':[], 'test_accuracy':[], 'test_precision':[], 'test_recall':[]}\n",
        "scheduler = torch.optim.lr_scheduler.ReduceLROnPlateau(\n",
        "    optimizer = optimizer,\n",
        "    mode = 'max',\n",
        "    factor = 0.1,\n",
        "    patience = 5,\n",
        "    min_lr =0.0001,\n",
        "    verbose =True\n",
        ")\n",
        "\n",
        "for epoch in range(epochs):\n",
        "  train_loss, train_acc, train_prec, train_recall = 0., 0., 0., 0.\n",
        "  test_loss, test_acc, test_prec, test_recall = 0., 0., 0., 0.\n",
        "\n",
        "  for (x, t) in train_dataloader:\n",
        "    x, t = x.to(device), t.to(device)\n",
        "    loss, preds, prec, recall =train_step(x, t)\n",
        "\n",
        "    train_loss += loss.item()\n",
        "    train_prec += prec.item()\n",
        "    train_recall += recall.item()\n",
        "    train_acc += accuracy_score(t.tolist(), preds.argmax(dim=-1).tolist())\n",
        "\n",
        "  for (x, t) in test_dataloader:\n",
        "    x, t = x.to(device), t.to(device)\n",
        "    loss, preds, prec, recall =test_step(x, t)\n",
        "\n",
        "    test_loss += loss.item()\n",
        "    test_prec += prec.item()\n",
        "    test_recall += recall.item()\n",
        "    test_acc += accuracy_score(t.tolist(), preds.argmax(dim=-1).tolist())\n",
        "\n",
        "  avg_train_loss, avg_train_acc, = train_loss / len(train_dataloader), train_acc / len(train_dataloader)\n",
        "  avg_train_prec, avg_train_recall = train_prec / len(train_dataloader), train_recall / len(train_dataloader)\n",
        "\n",
        "  avg_test_loss, avg_test_acc, =test_loss / len(test_dataloader), test_acc / len(test_dataloader)\n",
        "  avg_test_prec, avg_test_recall = test_prec / len(test_dataloader), test_recall / len(test_dataloader)\n",
        "\n",
        "  history['loss'].append(avg_train_loss)\n",
        "  history['accuracy'].append(avg_train_acc)\n",
        "  history['precision'].append(avg_train_prec)\n",
        "  history['recall'].append(avg_train_recall)\n",
        "\n",
        "  history['test_loss'].append(avg_test_loss)\n",
        "  history['test_accuracy'].append(avg_test_acc)\n",
        "  history['test_precision'].append(avg_test_prec)\n",
        "  history['test_recall'].append(avg_test_recall)\n",
        "\n",
        "  print('epoch({0}) train loss: {1:.4} train_acc: {2:.4} train_precision: {3:.4} train_recall: {4:.4}'.format(epoch+1, avg_train_loss, avg_train_acc, avg_train_prec, avg_train_recall))\n",
        "  print('epoch({0}) test_loss: {1:.4} test_acc: {2:.4} test_precision: {3:.4} test_recall: {4:.4}'.format(epoch+1, avg_test_loss, avg_test_acc, avg_test_prec, avg_test_recall))\n"
      ],
      "metadata": {
        "colab": {
          "base_uri": "https://localhost:8080/"
        },
        "id": "Zf5G_4661hMr",
        "outputId": "0687a681-2755-446c-e476-c92ed6b372ef"
      },
      "execution_count": null,
      "outputs": [
        {
          "output_type": "stream",
          "name": "stderr",
          "text": [
            "/usr/local/lib/python3.10/dist-packages/torch/optim/lr_scheduler.py:28: UserWarning: The verbose parameter is deprecated. Please use get_last_lr() to access the learning rate.\n",
            "  warnings.warn(\"The verbose parameter is deprecated. Please use get_last_lr() \"\n"
          ]
        },
        {
          "output_type": "stream",
          "name": "stdout",
          "text": [
            "epoch(1) train loss: 0.342 train_acc: 0.8922 train_precision: 0.456 train_recall: 0.5098\n",
            "epoch(1) test_loss: 0.3062 test_acc: 0.9091 test_precision: 0.4778 test_recall: 0.5233\n",
            "epoch(2) train loss: 0.342 train_acc: 0.8922 train_precision: 0.4558 train_recall: 0.5098\n",
            "epoch(2) test_loss: 0.3062 test_acc: 0.9091 test_precision: 0.4778 test_recall: 0.5233\n",
            "epoch(3) train loss: 0.342 train_acc: 0.8922 train_precision: 0.4558 train_recall: 0.5098\n",
            "epoch(3) test_loss: 0.3062 test_acc: 0.9091 test_precision: 0.4778 test_recall: 0.5233\n",
            "epoch(4) train loss: 0.342 train_acc: 0.8922 train_precision: 0.4558 train_recall: 0.5098\n",
            "epoch(4) test_loss: 0.3062 test_acc: 0.9091 test_precision: 0.4778 test_recall: 0.5233\n",
            "epoch(5) train loss: 0.342 train_acc: 0.8922 train_precision: 0.4558 train_recall: 0.5098\n",
            "epoch(5) test_loss: 0.3062 test_acc: 0.9091 test_precision: 0.4778 test_recall: 0.5233\n",
            "epoch(6) train loss: 0.3442 train_acc: 0.8922 train_precision: 0.4558 train_recall: 0.5098\n",
            "epoch(6) test_loss: 0.3062 test_acc: 0.9091 test_precision: 0.4778 test_recall: 0.5233\n",
            "epoch(7) train loss: 0.342 train_acc: 0.8922 train_precision: 0.4558 train_recall: 0.5098\n",
            "epoch(7) test_loss: 0.3062 test_acc: 0.9091 test_precision: 0.4778 test_recall: 0.5233\n",
            "epoch(8) train loss: 0.3488 train_acc: 0.8921 train_precision: 0.4558 train_recall: 0.5098\n",
            "epoch(8) test_loss: 0.3062 test_acc: 0.9091 test_precision: 0.4778 test_recall: 0.5233\n",
            "epoch(9) train loss: 0.342 train_acc: 0.8922 train_precision: 0.4558 train_recall: 0.5098\n",
            "epoch(9) test_loss: 0.3062 test_acc: 0.9091 test_precision: 0.4778 test_recall: 0.5233\n",
            "epoch(10) train loss: 0.342 train_acc: 0.8922 train_precision: 0.4558 train_recall: 0.5098\n",
            "epoch(10) test_loss: 0.3062 test_acc: 0.9091 test_precision: 0.4778 test_recall: 0.5233\n",
            "epoch(11) train loss: 0.342 train_acc: 0.8922 train_precision: 0.4558 train_recall: 0.5098\n",
            "epoch(11) test_loss: 0.3062 test_acc: 0.9091 test_precision: 0.4778 test_recall: 0.5233\n",
            "epoch(12) train loss: 0.342 train_acc: 0.8922 train_precision: 0.4558 train_recall: 0.5098\n",
            "epoch(12) test_loss: 0.3062 test_acc: 0.9091 test_precision: 0.4778 test_recall: 0.5233\n",
            "epoch(13) train loss: 0.342 train_acc: 0.8922 train_precision: 0.4558 train_recall: 0.5098\n",
            "epoch(13) test_loss: 0.3062 test_acc: 0.9091 test_precision: 0.4778 test_recall: 0.5233\n",
            "epoch(14) train loss: 0.342 train_acc: 0.8922 train_precision: 0.4558 train_recall: 0.5098\n",
            "epoch(14) test_loss: 0.3062 test_acc: 0.9091 test_precision: 0.4778 test_recall: 0.5233\n",
            "epoch(15) train loss: 0.342 train_acc: 0.8922 train_precision: 0.4558 train_recall: 0.5098\n",
            "epoch(15) test_loss: 0.3062 test_acc: 0.9091 test_precision: 0.4778 test_recall: 0.5233\n",
            "epoch(16) train loss: 0.342 train_acc: 0.8922 train_precision: 0.4558 train_recall: 0.5098\n",
            "epoch(16) test_loss: 0.3062 test_acc: 0.9091 test_precision: 0.4778 test_recall: 0.5233\n",
            "epoch(17) train loss: 0.342 train_acc: 0.8922 train_precision: 0.4558 train_recall: 0.5098\n",
            "epoch(17) test_loss: 0.3062 test_acc: 0.9091 test_precision: 0.4778 test_recall: 0.5233\n",
            "epoch(18) train loss: 0.342 train_acc: 0.8922 train_precision: 0.4558 train_recall: 0.5098\n",
            "epoch(18) test_loss: 0.3062 test_acc: 0.9091 test_precision: 0.4778 test_recall: 0.5233\n",
            "epoch(19) train loss: 0.342 train_acc: 0.8922 train_precision: 0.4558 train_recall: 0.5098\n",
            "epoch(19) test_loss: 0.3062 test_acc: 0.9091 test_precision: 0.4778 test_recall: 0.5233\n",
            "epoch(20) train loss: 0.342 train_acc: 0.8922 train_precision: 0.4558 train_recall: 0.5098\n",
            "epoch(20) test_loss: 0.3062 test_acc: 0.9091 test_precision: 0.4778 test_recall: 0.5233\n",
            "epoch(21) train loss: 0.342 train_acc: 0.8922 train_precision: 0.4558 train_recall: 0.5098\n",
            "epoch(21) test_loss: 0.3062 test_acc: 0.9091 test_precision: 0.4778 test_recall: 0.5233\n",
            "epoch(22) train loss: 0.342 train_acc: 0.8922 train_precision: 0.4558 train_recall: 0.5098\n",
            "epoch(22) test_loss: 0.3062 test_acc: 0.9091 test_precision: 0.4778 test_recall: 0.5233\n",
            "epoch(23) train loss: 0.342 train_acc: 0.8922 train_precision: 0.4558 train_recall: 0.5098\n",
            "epoch(23) test_loss: 0.3062 test_acc: 0.9091 test_precision: 0.4778 test_recall: 0.5233\n",
            "epoch(24) train loss: 0.342 train_acc: 0.8922 train_precision: 0.4558 train_recall: 0.5098\n",
            "epoch(24) test_loss: 0.3062 test_acc: 0.9091 test_precision: 0.4778 test_recall: 0.5233\n",
            "epoch(25) train loss: 0.342 train_acc: 0.8922 train_precision: 0.4558 train_recall: 0.5098\n",
            "epoch(25) test_loss: 0.3062 test_acc: 0.9091 test_precision: 0.4778 test_recall: 0.5233\n"
          ]
        }
      ]
    },
    {
      "cell_type": "code",
      "source": [
        "'''\n",
        "12. 損失と精度をグラフにする\n",
        "'''\n",
        "plt.plot(history['loss'], marker='.', label='loss(Training)')\n",
        "plt.plot(history['test_loss'], marker='.', label='loss(Test)')\n",
        "plt.legend(loc='best')\n",
        "plt.grid()\n",
        "plt.xlabel('epoch')\n",
        "plt.ylabel('loss')\n",
        "plt.show()\n",
        "\n",
        "plt.plot(history['accuracy'], marker='.', label='accuracy(Training)')\n",
        "plt.plot(history['test_accuracy'], marker='.', label='accuracy(Test)')\n",
        "plt.legend(loc='best')\n",
        "plt.grid()\n",
        "plt.xlabel('epoch')\n",
        "plt.ylabel('accuracy')\n",
        "plt.show()"
      ],
      "metadata": {
        "colab": {
          "base_uri": "https://localhost:8080/",
          "height": 881
        },
        "id": "rhN0kz7SMKZX",
        "outputId": "23a29c8d-dde9-445a-f4e3-0eaec19c4aee"
      },
      "execution_count": 23,
      "outputs": [
        {
          "output_type": "display_data",
          "data": {
            "text/plain": [
              "<Figure size 640x480 with 1 Axes>"
            ],
            "image/png": "[encoded data removed]"
          },
          "metadata": {}
        },
        {
          "output_type": "display_data",
          "data": {
            "text/plain": [
              "<Figure size 640x480 with 1 Axes>"
            ],
            "image/png": "[encoded data removed]"
          },
          "metadata": {}
        }
      ]
    }
  ]
}