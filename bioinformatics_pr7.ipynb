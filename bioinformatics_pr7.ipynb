{
  "nbformat": 4,
  "nbformat_minor": 0,
  "metadata": {
    "colab": {
      "provenance": [],
      "gpuType": "T4",
      "authorship_tag": "ABX9TyMxEA1mh+qbPYxIHd43tFK0",
      "include_colab_link": true
    },
    "kernelspec": {
      "name": "python3",
      "display_name": "Python 3"
    },
    "language_info": {
      "name": "python"
    },
    "accelerator": "GPU"
  },
  "cells": [
    {
      "cell_type": "markdown",
      "metadata": {
        "id": "view-in-github",
        "colab_type": "text"
      },
      "source": [
        "<a href=\"https://colab.research.google.com/github/yoshimethod/bioinformatics/blob/main/bioinformatics_pr7.ipynb\" target=\"_parent\"><img src=\"https://colab.research.google.com/assets/colab-badge.svg\" alt=\"Open In Colab\"/></a>"
      ]
    },
    {
      "cell_type": "code",
      "execution_count": 1,
      "metadata": {
        "colab": {
          "base_uri": "https://localhost:8080/"
        },
        "id": "D6OND7jtaK3C",
        "outputId": "1fd5f3c2-a9be-4e3d-81a5-7f7cbf78a898"
      },
      "outputs": [
        {
          "output_type": "stream",
          "name": "stdout",
          "text": [
            "Collecting git+https://github.com/hmdlab/raptgen.git@v1.0.0\n",
            "  Cloning https://github.com/hmdlab/raptgen.git (to revision v1.0.0) to /tmp/pip-req-build-hrdpwtwq\n",
            "  Running command git clone --filter=blob:none --quiet https://github.com/hmdlab/raptgen.git /tmp/pip-req-build-hrdpwtwq\n",
            "  Running command git checkout -q bc2f2a58043593c0000b954fba5989a270393c5f\n",
            "  Resolved https://github.com/hmdlab/raptgen.git to commit bc2f2a58043593c0000b954fba5989a270393c5f\n",
            "  Installing build dependencies ... \u001b[?25l\u001b[?25hdone\n",
            "  Getting requirements to build wheel ... \u001b[?25l\u001b[?25hdone\n",
            "  Preparing metadata (pyproject.toml) ... \u001b[?25l\u001b[?25hdone\n",
            "Building wheels for collected packages: raptgen\n",
            "  Building wheel for raptgen (pyproject.toml) ... \u001b[?25l\u001b[?25hdone\n",
            "  Created wheel for raptgen: filename=raptgen-0.1.0-py3-none-any.whl size=22953 sha256=40b579594723c6d97bd7e62d4556b9b4ed455175029ef6601c45d6ae860e27dc\n",
            "  Stored in directory: /tmp/pip-ephem-wheel-cache-z5i4acr4/wheels/b0/fe/17/1450a3b2a5dd9e6c1ee8eeaa1e9a27d9f92152a79f509a40ed\n",
            "Successfully built raptgen\n",
            "Installing collected packages: raptgen\n",
            "Successfully installed raptgen-0.1.0\n",
            "Reading package lists... Done\n",
            "Building dependency tree... Done\n",
            "Reading state information... Done\n",
            "Suggested packages:\n",
            "  fonts-noto-cjk-extra\n",
            "The following NEW packages will be installed:\n",
            "  fonts-noto-cjk\n",
            "0 upgraded, 1 newly installed, 0 to remove and 45 not upgraded.\n",
            "Need to get 61.2 MB of archives.\n",
            "After this operation, 93.2 MB of additional disk space will be used.\n",
            "Get:1 http://archive.ubuntu.com/ubuntu jammy/main amd64 fonts-noto-cjk all 1:20220127+repack1-1 [61.2 MB]\n",
            "Fetched 61.2 MB in 7s (9,055 kB/s)\n",
            "debconf: unable to initialize frontend: Dialog\n",
            "debconf: (No usable dialog-like program is installed, so the dialog based frontend cannot be used. at /usr/share/perl5/Debconf/FrontEnd/Dialog.pm line 78, <> line 1.)\n",
            "debconf: falling back to frontend: Readline\n",
            "debconf: unable to initialize frontend: Readline\n",
            "debconf: (This frontend requires a controlling tty.)\n",
            "debconf: falling back to frontend: Teletype\n",
            "dpkg-preconfigure: unable to re-open stdin: \n",
            "Selecting previously unselected package fonts-noto-cjk.\n",
            "(Reading database ... 121918 files and directories currently installed.)\n",
            "Preparing to unpack .../fonts-noto-cjk_1%3a20220127+repack1-1_all.deb ...\n",
            "Unpacking fonts-noto-cjk (1:20220127+repack1-1) ...\n",
            "Setting up fonts-noto-cjk (1:20220127+repack1-1) ...\n",
            "Processing triggers for fontconfig (2.13.1-4.2ubuntu5) ...\n",
            "Collecting biopython\n",
            "  Downloading biopython-1.83-cp310-cp310-manylinux_2_17_x86_64.manylinux2014_x86_64.whl (3.1 MB)\n",
            "\u001b[2K     \u001b[90m━━━━━━━━━━━━━━━━━━━━━━━━━━━━━━━━━━━━━━━━\u001b[0m \u001b[32m3.1/3.1 MB\u001b[0m \u001b[31m42.7 MB/s\u001b[0m eta \u001b[36m0:00:00\u001b[0m\n",
            "\u001b[?25hCollecting CairoSVG\n",
            "  Downloading CairoSVG-2.7.1-py3-none-any.whl (43 kB)\n",
            "\u001b[2K     \u001b[90m━━━━━━━━━━━━━━━━━━━━━━━━━━━━━━━━━━━━━━━━\u001b[0m \u001b[32m43.2/43.2 kB\u001b[0m \u001b[31m6.0 MB/s\u001b[0m eta \u001b[36m0:00:00\u001b[0m\n",
            "\u001b[?25hCollecting svgwrite\n",
            "  Downloading svgwrite-1.4.3-py3-none-any.whl (67 kB)\n",
            "\u001b[2K     \u001b[90m━━━━━━━━━━━━━━━━━━━━━━━━━━━━━━━━━━━━━━━━\u001b[0m \u001b[32m67.1/67.1 kB\u001b[0m \u001b[31m10.0 MB/s\u001b[0m eta \u001b[36m0:00:00\u001b[0m\n",
            "\u001b[?25hCollecting GPy==1.9.9\n",
            "  Downloading GPy-1.9.9.tar.gz (995 kB)\n",
            "\u001b[2K     \u001b[90m━━━━━━━━━━━━━━━━━━━━━━━━━━━━━━━━━━━━━━━━\u001b[0m \u001b[32m995.1/995.1 kB\u001b[0m \u001b[31m3.0 MB/s\u001b[0m eta \u001b[36m0:00:00\u001b[0m\n",
            "\u001b[?25h  Preparing metadata (setup.py) ... \u001b[?25l\u001b[?25hdone\n",
            "Collecting GPyOpt==1.2.6\n",
            "  Downloading GPyOpt-1.2.6.tar.gz (56 kB)\n",
            "\u001b[2K     \u001b[90m━━━━━━━━━━━━━━━━━━━━━━━━━━━━━━━━━━━━━━━━\u001b[0m \u001b[32m56.8/56.8 kB\u001b[0m \u001b[31m9.1 MB/s\u001b[0m eta \u001b[36m0:00:00\u001b[0m\n",
            "\u001b[?25h  Preparing metadata (setup.py) ... \u001b[?25l\u001b[?25hdone\n",
            "Collecting scipy==1.4.1\n",
            "  Downloading scipy-1.4.1.tar.gz (24.6 MB)\n",
            "\u001b[2K     \u001b[90m━━━━━━━━━━━━━━━━━━━━━━━━━━━━━━━━━━━━━━━━\u001b[0m \u001b[32m24.6/24.6 MB\u001b[0m \u001b[31m66.4 MB/s\u001b[0m eta \u001b[36m0:00:00\u001b[0m\n",
            "\u001b[?25h  \u001b[1;31merror\u001b[0m: \u001b[1msubprocess-exited-with-error\u001b[0m\n",
            "  \n",
            "  \u001b[31m×\u001b[0m \u001b[32mpip subprocess to install build dependencies\u001b[0m did not run successfully.\n",
            "  \u001b[31m│\u001b[0m exit code: \u001b[1;36m1\u001b[0m\n",
            "  \u001b[31m╰─>\u001b[0m See above for output.\n",
            "  \n",
            "  \u001b[1;35mnote\u001b[0m: This error originates from a subprocess, and is likely not a problem with pip.\n",
            "  Installing build dependencies ... \u001b[?25l\u001b[?25herror\n",
            "\u001b[1;31merror\u001b[0m: \u001b[1msubprocess-exited-with-error\u001b[0m\n",
            "\n",
            "\u001b[31m×\u001b[0m \u001b[32mpip subprocess to install build dependencies\u001b[0m did not run successfully.\n",
            "\u001b[31m│\u001b[0m exit code: \u001b[1;36m1\u001b[0m\n",
            "\u001b[31m╰─>\u001b[0m See above for output.\n",
            "\n",
            "\u001b[1;35mnote\u001b[0m: This error originates from a subprocess, and is likely not a problem with pip.\n"
          ]
        }
      ],
      "source": [
        "!python -m pip install git+https://github.com/hmdlab/raptgen.git@v1.0.0\n",
        "!sudo apt-get install fonts-noto-cjk\n",
        "!pip install biopython CairoSVG svgwrite GPy==1.9.9 GPyOpt==1.2.6 scipy==1.4.1"
      ]
    },
    {
      "cell_type": "code",
      "source": [
        "skip_heavy_computation = True\n",
        "\n",
        "if skip_heavy_computation:\n",
        "  reload_model = True\n",
        "else:\n",
        "  reload_model = False"
      ],
      "metadata": {
        "id": "CTvBdt7Eb4a8"
      },
      "execution_count": 2,
      "outputs": []
    },
    {
      "cell_type": "code",
      "source": [
        "!wget https://raw.githubusercontent.com/hmdlab/raptgen/v1.0.0/data/simulation/paired/sequences.txt"
      ],
      "metadata": {
        "colab": {
          "base_uri": "https://localhost:8080/"
        },
        "id": "PT3oH-ojffbd",
        "outputId": "72a39aca-75a3-4291-b5ff-638d74781c91"
      },
      "execution_count": 3,
      "outputs": [
        {
          "output_type": "stream",
          "name": "stdout",
          "text": [
            "--2024-06-07 07:06:39--  https://raw.githubusercontent.com/hmdlab/raptgen/v1.0.0/data/simulation/paired/sequences.txt\n",
            "Resolving raw.githubusercontent.com (raw.githubusercontent.com)... 185.199.108.133, 185.199.109.133, 185.199.110.133, ...\n",
            "Connecting to raw.githubusercontent.com (raw.githubusercontent.com)|185.199.108.133|:443... connected.\n",
            "HTTP request sent, awaiting response... 200 OK\n",
            "Length: 165000 (161K) [text/plain]\n",
            "Saving to: ‘sequences.txt’\n",
            "\n",
            "sequences.txt       100%[===================>] 161.13K  --.-KB/s    in 0.005s  \n",
            "\n",
            "2024-06-07 07:06:39 (31.9 MB/s) - ‘sequences.txt’ saved [165000/165000]\n",
            "\n"
          ]
        }
      ]
    },
    {
      "cell_type": "code",
      "source": [
        "!head sequences.txt"
      ],
      "metadata": {
        "colab": {
          "base_uri": "https://localhost:8080/"
        },
        "id": "5pJd1YGmgfSS",
        "outputId": "5d72ee9f-c98f-4421-cb81-38448d201701"
      },
      "execution_count": 4,
      "outputs": [
        {
          "output_type": "stream",
          "name": "stdout",
          "text": [
            "1,AAAAACATACCACACTACTGTTCTTGGGGG\n",
            "0,AAAAAAACACTACCTATCCCTCTAAGGGGG\n",
            "0,AAAAACACTACTCGCGCCCTCTGTGGGGGG\n",
            "2,AAAAATGTACTACACCCCTCGGATAGGGGG\n",
            "0,AAAAACGAAGACTACTGCCCTCGTAGGGGG\n",
            "0,AAAAAGCACTACTCGGTCCCTCTTAGGGGG\n",
            "0,AAAAATTATACTACCATATCCCTCCGGGGG\n",
            "0,AAAAAATCAGACTACCTCCCCCTCTGGGGG\n",
            "0,AAAAAGATACACTACTGTCCCTCTGGGGGG\n",
            "0,AAAAAGACTACAACCCTCGACTACAGGGGG\n"
          ]
        }
      ]
    },
    {
      "cell_type": "code",
      "source": [
        "!pip install biopython"
      ],
      "metadata": {
        "colab": {
          "base_uri": "https://localhost:8080/"
        },
        "id": "AoHsTs2Xh6JG",
        "outputId": "2e0c0422-648f-45d3-b990-faf6c2a37418"
      },
      "execution_count": 6,
      "outputs": [
        {
          "output_type": "stream",
          "name": "stdout",
          "text": [
            "Collecting biopython\n",
            "  Using cached biopython-1.83-cp310-cp310-manylinux_2_17_x86_64.manylinux2014_x86_64.whl (3.1 MB)\n",
            "Requirement already satisfied: numpy in /usr/local/lib/python3.10/dist-packages (from biopython) (1.25.2)\n",
            "Installing collected packages: biopython\n",
            "Successfully installed biopython-1.83\n"
          ]
        }
      ]
    },
    {
      "cell_type": "code",
      "source": [
        "from Bio import SeqIO\n",
        "from Bio.Seq import Seq\n",
        "from Bio.SeqRecord import SeqRecord\n",
        "from pathlib import Path"
      ],
      "metadata": {
        "id": "QPwBjVI8hWqD"
      },
      "execution_count": 7,
      "outputs": []
    },
    {
      "cell_type": "code",
      "source": [
        "with Path('sequences.txt').open() as f:\n",
        "  records = []\n",
        "  for idx, line in enumerate(f.readlines()):\n",
        "    motif_idx, sequence = line.strip().split(',')\n",
        "    record = SeqRecord(\n",
        "        Seq(sequence),\n",
        "        id = f'{idx}',\n",
        "        description = f\"motif:{motif_idx} #{idx}\"\n",
        "    )\n",
        "\n",
        "    records.append(record)\n",
        "\n",
        "  SeqIO.write(\n",
        "      sequences = records,\n",
        "      handle ='sample.fasta',\n",
        "      format = 'fasta'\n",
        "  )"
      ],
      "metadata": {
        "id": "9Kr1SsKbiBLx"
      },
      "execution_count": 8,
      "outputs": []
    },
    {
      "cell_type": "code",
      "source": [
        "!head -n 4 sample.fasta"
      ],
      "metadata": {
        "colab": {
          "base_uri": "https://localhost:8080/"
        },
        "id": "tRw4jdKbitHd",
        "outputId": "4942938c-8911-4043-adc5-f805fad0fc13"
      },
      "execution_count": 9,
      "outputs": [
        {
          "output_type": "stream",
          "name": "stdout",
          "text": [
            ">0 motif:1 #0\n",
            "AAAAACATACCACACTACTGTTCTTGGGGG\n",
            ">1 motif:0 #1\n",
            "AAAAAAACACTACCTATCCCTCTAAGGGGG\n"
          ]
        }
      ]
    },
    {
      "cell_type": "code",
      "source": [
        "from raptgen.data import SingleRound\n",
        "filename = 'sample.fasta'\n",
        "single_round =SingleRound(path = filename)"
      ],
      "metadata": {
        "id": "wsOFsJctjNUp"
      },
      "execution_count": 14,
      "outputs": []
    },
    {
      "cell_type": "code",
      "source": [
        "import torch\n",
        "\n",
        "epochs = 200\n",
        "threshold = 10\n",
        "device = \"cuda\"\n",
        "\n",
        "if device == \"cuda\" and torch.cuda.is_available() == False:\n",
        "  print(\"cuda is not available. using cpu.\")\n",
        "  device = torch.device(\"cpu\")\n",
        "else:\n",
        "  print(f\"using {device}.\")\n",
        "  device = torch.device(device)\n",
        "\n",
        "min_count = 1\n",
        "\n",
        "trrain_loader, test_loader = single_round.get_dataloader(\n",
        "    min_count = min_count, use_cuda = (device == torch.device(\"cuda\"))\n",
        ")\n",
        "\n",
        "force_epochs = 10\n",
        "save_dir = \"out/\"\n",
        "save_dir = Path(save_dir).expanduser()\n",
        "save_dir.mkdir(exist_ok = True, parents = True)"
      ],
      "metadata": {
        "colab": {
          "base_uri": "https://localhost:8080/"
        },
        "id": "uY_J3_VajYy9",
        "outputId": "4cd4b3e6-690e-4551-f285-6866014b2d9a"
      },
      "execution_count": 15,
      "outputs": [
        {
          "output_type": "stream",
          "name": "stdout",
          "text": [
            "using cuda.\n"
          ]
        }
      ]
    },
    {
      "cell_type": "code",
      "source": [],
      "metadata": {
        "id": "SPh18NeZlwjK"
      },
      "execution_count": null,
      "outputs": []
    }
  ]
}