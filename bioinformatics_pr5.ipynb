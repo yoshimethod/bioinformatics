{
  "nbformat": 4,
  "nbformat_minor": 0,
  "metadata": {
    "colab": {
      "provenance": [],
      "authorship_tag": "ABX9TyOo/qxGDpXqmVKI5MFzRcvl",
      "include_colab_link": true
    },
    "kernelspec": {
      "name": "python3",
      "display_name": "Python 3"
    },
    "language_info": {
      "name": "python"
    }
  },
  "cells": [
    {
      "cell_type": "markdown",
      "metadata": {
        "id": "view-in-github",
        "colab_type": "text"
      },
      "source": [
        "<a href=\"https://colab.research.google.com/github/yoshimethod/bioinformatics/blob/main/bioinformatics_pr5.ipynb\" target=\"_parent\"><img src=\"https://colab.research.google.com/assets/colab-badge.svg\" alt=\"Open In Colab\"/></a>"
      ]
    },
    {
      "cell_type": "code",
      "source": [
        "import argparse\n",
        "from cmath import e\n",
        "import copy\n",
        "import glob\n",
        "import math\n",
        "import pwd\n",
        "from tkinter import E\n",
        "import matplotlib.pyplot as plt\n",
        "import numpy as np\n",
        "import os\n",
        "import pandas as pd\n",
        "import time\n",
        "import torch\n",
        "import torch.nn as nn\n",
        "import torch.optim as optim\n",
        "from collections import deque\n",
        "from pathlib import Path\n",
        "from torch.utils.data import DataLoader"
      ],
      "metadata": {
        "id": "Ukv6t0uX5X-4"
      },
      "execution_count": 9,
      "outputs": []
    },
    {
      "cell_type": "code",
      "source": [
        "class AEDataset():\n",
        "  def __init__(self, X, y):\n",
        "    self.X = torch.Tensor(X.values)\n",
        "    self.y = torch.Tensor(y.values)\n",
        "\n",
        "  def __len__(self):\n",
        "    return len(self.y)\n",
        "\n",
        "  def __getitem__(self, idx):\n",
        "    return self.X[idx], self.y[idx]"
      ],
      "metadata": {
        "id": "njCv1ofb98-L"
      },
      "execution_count": 10,
      "outputs": []
    },
    {
      "cell_type": "code",
      "source": [
        "#エンコーダの定義\n",
        "class Encoder(nn.Module):\n",
        "  def __init__(self, input_size, encoding_dim):\n",
        "    super().__init__()\n",
        "    self.fc1 = nn.Linear(input_size, encoding_dim[0])\n",
        "    self.pool1 = nn.Dropout(0.5)\n",
        "    self.fc2 = nn.Linear(encoding_dim[0], encoding_dim[1])\n",
        "    self.pool2 = nn.Dropout(0.5)\n",
        "\n",
        "  def forward(self, x):\n",
        "    x = torch.tanh(self.fc1(x))\n",
        "    x = self.pool1(x)\n",
        "    x = torch.tanh(self.fc2(x))\n",
        "    x = self.pool2(x)\n",
        "    return x\n",
        "\n",
        "class Decoder(nn.Module):\n",
        "  def __init__(self, encoding_dim, input_size):\n",
        "    super().__init__()\n",
        "    self.fc3 = nn.Linear(encoding_dim[1], encoding_dim[0])\n",
        "    self.fc4 = nn.Linear(encoding_dim[0], input_size)\n",
        "\n",
        "  def forward(self, x):\n",
        "    x = torch.tanh(self.fc3(x))\n",
        "    x = torch.tanh(self.fc4(x))\n",
        "\n",
        "class AutoEncoder(nn.Module):\n",
        "  def __init__(self, input_size=13767, encoding_dim=[500,100]):\n",
        "    super().__init__()\n",
        "    self.encoder = Encoder(input_size, encoding_dim)\n",
        "    self.decoder = Decoder(encoding_dim, input_size)\n",
        "\n",
        "  def forward(self, x):\n",
        "    x = self.encoder(x)\n",
        "    x = self.decoder(x)\n",
        "    return x"
      ],
      "metadata": {
        "id": "E6gkKuh--Xvb"
      },
      "execution_count": 11,
      "outputs": []
    }
  ]
}