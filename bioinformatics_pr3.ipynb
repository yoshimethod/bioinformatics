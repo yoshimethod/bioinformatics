{
  "nbformat": 4,
  "nbformat_minor": 0,
  "metadata": {
    "colab": {
      "provenance": [],
      "gpuType": "T4",
      "authorship_tag": "ABX9TyP7QomOxB74yBSXGXpWiJTN",
      "include_colab_link": true
    },
    "kernelspec": {
      "name": "python3",
      "display_name": "Python 3"
    },
    "language_info": {
      "name": "python"
    },
    "accelerator": "GPU"
  },
  "cells": [
    {
      "cell_type": "markdown",
      "metadata": {
        "id": "view-in-github",
        "colab_type": "text"
      },
      "source": [
        "<a href=\"https://colab.research.google.com/github/yoshimethod/bioinformatics/blob/main/bioinformatics_pr3.ipynb\" target=\"_parent\"><img src=\"https://colab.research.google.com/assets/colab-badge.svg\" alt=\"Open In Colab\"/></a>"
      ]
    },
    {
      "cell_type": "code",
      "execution_count": 2,
      "metadata": {
        "colab": {
          "base_uri": "https://localhost:8080/"
        },
        "id": "C8xpNcYiE0r5",
        "outputId": "260a930e-845c-4a1a-d25c-53b93d363c12"
      },
      "outputs": [
        {
          "output_type": "stream",
          "name": "stdout",
          "text": [
            "Collecting optuna\n",
            "  Downloading optuna-3.6.1-py3-none-any.whl (380 kB)\n",
            "\u001b[2K     \u001b[90m━━━━━━━━━━━━━━━━━━━━━━━━━━━━━━━━━━━━━━━━\u001b[0m \u001b[32m380.1/380.1 kB\u001b[0m \u001b[31m4.9 MB/s\u001b[0m eta \u001b[36m0:00:00\u001b[0m\n",
            "\u001b[?25hCollecting alembic>=1.5.0 (from optuna)\n",
            "  Downloading alembic-1.13.1-py3-none-any.whl (233 kB)\n",
            "\u001b[2K     \u001b[90m━━━━━━━━━━━━━━━━━━━━━━━━━━━━━━━━━━━━━━━━\u001b[0m \u001b[32m233.4/233.4 kB\u001b[0m \u001b[31m9.1 MB/s\u001b[0m eta \u001b[36m0:00:00\u001b[0m\n",
            "\u001b[?25hCollecting colorlog (from optuna)\n",
            "  Downloading colorlog-6.8.2-py3-none-any.whl (11 kB)\n",
            "Requirement already satisfied: numpy in /usr/local/lib/python3.10/dist-packages (from optuna) (1.25.2)\n",
            "Requirement already satisfied: packaging>=20.0 in /usr/local/lib/python3.10/dist-packages (from optuna) (24.0)\n",
            "Requirement already satisfied: sqlalchemy>=1.3.0 in /usr/local/lib/python3.10/dist-packages (from optuna) (2.0.29)\n",
            "Requirement already satisfied: tqdm in /usr/local/lib/python3.10/dist-packages (from optuna) (4.66.2)\n",
            "Requirement already satisfied: PyYAML in /usr/local/lib/python3.10/dist-packages (from optuna) (6.0.1)\n",
            "Collecting Mako (from alembic>=1.5.0->optuna)\n",
            "  Downloading Mako-1.3.3-py3-none-any.whl (78 kB)\n",
            "\u001b[2K     \u001b[90m━━━━━━━━━━━━━━━━━━━━━━━━━━━━━━━━━━━━━━━━\u001b[0m \u001b[32m78.8/78.8 kB\u001b[0m \u001b[31m7.9 MB/s\u001b[0m eta \u001b[36m0:00:00\u001b[0m\n",
            "\u001b[?25hRequirement already satisfied: typing-extensions>=4 in /usr/local/lib/python3.10/dist-packages (from alembic>=1.5.0->optuna) (4.11.0)\n",
            "Requirement already satisfied: greenlet!=0.4.17 in /usr/local/lib/python3.10/dist-packages (from sqlalchemy>=1.3.0->optuna) (3.0.3)\n",
            "Requirement already satisfied: MarkupSafe>=0.9.2 in /usr/local/lib/python3.10/dist-packages (from Mako->alembic>=1.5.0->optuna) (2.1.5)\n",
            "Installing collected packages: Mako, colorlog, alembic, optuna\n",
            "Successfully installed Mako-1.3.3 alembic-1.13.1 colorlog-6.8.2 optuna-3.6.1\n"
          ]
        }
      ],
      "source": [
        "!pip install optuna"
      ]
    },
    {
      "cell_type": "code",
      "source": [
        "import matplotlib\n",
        "import matplotlib.pyplot as plt\n",
        "import numpy as np\n",
        "import optuna\n",
        "import pandas as pd\n",
        "import seaborn as sns\n",
        "import sklearn\n",
        "import torch"
      ],
      "metadata": {
        "id": "zOZXNvwIFGik"
      },
      "execution_count": 3,
      "outputs": []
    },
    {
      "cell_type": "code",
      "source": [
        "#GPUが使用可能であるかを確認する\n",
        "device=torch.device('cuda:0' if torch.cuda.is_available() else 'cpu')\n",
        "print(device)"
      ],
      "metadata": {
        "colab": {
          "base_uri": "https://localhost:8080/"
        },
        "id": "z_LDhUO8FYPC",
        "outputId": "72251c5f-093d-4573-c6fb-3ce03a7cb721"
      },
      "execution_count": 4,
      "outputs": [
        {
          "output_type": "stream",
          "name": "stdout",
          "text": [
            "cuda:0\n"
          ]
        }
      ]
    },
    {
      "cell_type": "code",
      "source": [
        "import numpy as np\n",
        "\n",
        "data=[[1,2], [3,4]]\n",
        "np_data=np.array(data)\n",
        "print(np_data)"
      ],
      "metadata": {
        "colab": {
          "base_uri": "https://localhost:8080/"
        },
        "id": "o4qBblyKF01T",
        "outputId": "71552c17-6200-4df3-dab7-e3a8d8ed24f3"
      },
      "execution_count": 5,
      "outputs": [
        {
          "output_type": "stream",
          "name": "stdout",
          "text": [
            "[[1 2]\n",
            " [3 4]]\n"
          ]
        }
      ]
    },
    {
      "cell_type": "code",
      "source": [
        "import torch\n",
        "tensor_data=torch.tensor(data)\n",
        "print(tensor_data)"
      ],
      "metadata": {
        "colab": {
          "base_uri": "https://localhost:8080/"
        },
        "id": "kkgaBz0sGDwx",
        "outputId": "38ae059f-7494-43fe-8c97-126e9150d928"
      },
      "execution_count": 6,
      "outputs": [
        {
          "output_type": "stream",
          "name": "stdout",
          "text": [
            "tensor([[1, 2],\n",
            "        [3, 4]])\n"
          ]
        }
      ]
    },
    {
      "cell_type": "code",
      "source": [
        "tensor_from_np=torch.from_numpy(np_data)\n",
        "tensor_from_np"
      ],
      "metadata": {
        "colab": {
          "base_uri": "https://localhost:8080/"
        },
        "id": "20DoLCkVHIgv",
        "outputId": "64264e1b-e2aa-4a56-a36e-7a3461e6e01d"
      },
      "execution_count": 7,
      "outputs": [
        {
          "output_type": "execute_result",
          "data": {
            "text/plain": [
              "tensor([[1, 2],\n",
              "        [3, 4]])"
            ]
          },
          "metadata": {},
          "execution_count": 7
        }
      ]
    },
    {
      "cell_type": "code",
      "source": [
        "tensor_random=torch.rand_like(tensor_data, dtype=torch.float)\n",
        "print(tensor_random)"
      ],
      "metadata": {
        "colab": {
          "base_uri": "https://localhost:8080/"
        },
        "id": "QArxmmlVHvy1",
        "outputId": "dde6923e-d8ac-49a8-c53f-bd9f1af5cace"
      },
      "execution_count": 8,
      "outputs": [
        {
          "output_type": "stream",
          "name": "stdout",
          "text": [
            "tensor([[0.1466, 0.3413],\n",
            "        [0.5262, 0.1211]])\n"
          ]
        }
      ]
    },
    {
      "cell_type": "code",
      "source": [
        "tensor=torch.ones(4,4)\n",
        "tensor.to(device)\n",
        "print(tensor)"
      ],
      "metadata": {
        "colab": {
          "base_uri": "https://localhost:8080/"
        },
        "id": "vEKCe8udNoXO",
        "outputId": "2618c21d-3aae-407d-b8b1-0f3f2b643884"
      },
      "execution_count": 9,
      "outputs": [
        {
          "output_type": "stream",
          "name": "stdout",
          "text": [
            "tensor([[1., 1., 1., 1.],\n",
            "        [1., 1., 1., 1.],\n",
            "        [1., 1., 1., 1.],\n",
            "        [1., 1., 1., 1.]])\n"
          ]
        }
      ]
    },
    {
      "cell_type": "code",
      "source": [
        "tensor[:,1]=0\n",
        "tensor[1,:]=3\n",
        "print(tensor)"
      ],
      "metadata": {
        "colab": {
          "base_uri": "https://localhost:8080/"
        },
        "id": "YhQJ2sL9NxxB",
        "outputId": "5b50e27b-70ab-489c-c649-751be8eb7e4d"
      },
      "execution_count": 10,
      "outputs": [
        {
          "output_type": "stream",
          "name": "stdout",
          "text": [
            "tensor([[1., 0., 1., 1.],\n",
            "        [3., 3., 3., 3.],\n",
            "        [1., 0., 1., 1.],\n",
            "        [1., 0., 1., 1.]])\n"
          ]
        }
      ]
    },
    {
      "cell_type": "code",
      "source": [
        "print('0行目：', tensor[0])\n",
        "print('1行目：', tensor[:, 1])\n",
        "print('最終列：', tensor[:, -1])"
      ],
      "metadata": {
        "colab": {
          "base_uri": "https://localhost:8080/"
        },
        "id": "tXfleKTyPO7-",
        "outputId": "533da971-372e-4849-8bc9-a69b81f7fd3c"
      },
      "execution_count": 11,
      "outputs": [
        {
          "output_type": "stream",
          "name": "stdout",
          "text": [
            "0行目： tensor([1., 0., 1., 1.])\n",
            "1行目： tensor([0., 3., 0., 0.])\n",
            "最終列： tensor([1., 3., 1., 1.])\n"
          ]
        }
      ]
    },
    {
      "cell_type": "code",
      "source": [
        "t1=torch.cat([tensor, tensor, tensor], dim=1)\n",
        "print(t1)"
      ],
      "metadata": {
        "colab": {
          "base_uri": "https://localhost:8080/"
        },
        "id": "FnRxHaNBQvpb",
        "outputId": "494c6bf0-8d3e-4171-d1a8-671d4de52b85"
      },
      "execution_count": 12,
      "outputs": [
        {
          "output_type": "stream",
          "name": "stdout",
          "text": [
            "tensor([[1., 0., 1., 1., 1., 0., 1., 1., 1., 0., 1., 1.],\n",
            "        [3., 3., 3., 3., 3., 3., 3., 3., 3., 3., 3., 3.],\n",
            "        [1., 0., 1., 1., 1., 0., 1., 1., 1., 0., 1., 1.],\n",
            "        [1., 0., 1., 1., 1., 0., 1., 1., 1., 0., 1., 1.]])\n"
          ]
        }
      ]
    },
    {
      "cell_type": "code",
      "source": [
        "tensor @ tensor"
      ],
      "metadata": {
        "colab": {
          "base_uri": "https://localhost:8080/"
        },
        "id": "Rf4tgjv7Q36x",
        "outputId": "62423e09-96da-4b70-b8f2-25aee6e048a2"
      },
      "execution_count": 13,
      "outputs": [
        {
          "output_type": "execute_result",
          "data": {
            "text/plain": [
              "tensor([[ 3.,  0.,  3.,  3.],\n",
              "        [18.,  9., 18., 18.],\n",
              "        [ 3.,  0.,  3.,  3.],\n",
              "        [ 3.,  0.,  3.,  3.]])"
            ]
          },
          "metadata": {},
          "execution_count": 13
        }
      ]
    },
    {
      "cell_type": "code",
      "source": [
        "tensor * tensor"
      ],
      "metadata": {
        "colab": {
          "base_uri": "https://localhost:8080/"
        },
        "id": "QK32ycqlQ8Fh",
        "outputId": "ece6a4c7-9fbf-47df-fbee-8ac8a5b8a43c"
      },
      "execution_count": 14,
      "outputs": [
        {
          "output_type": "execute_result",
          "data": {
            "text/plain": [
              "tensor([[1., 0., 1., 1.],\n",
              "        [9., 9., 9., 9.],\n",
              "        [1., 0., 1., 1.],\n",
              "        [1., 0., 1., 1.]])"
            ]
          },
          "metadata": {},
          "execution_count": 14
        }
      ]
    },
    {
      "cell_type": "code",
      "source": [
        "sum_item=tensor.sum().item()\n",
        "print(sum_item, type(sum_item))"
      ],
      "metadata": {
        "colab": {
          "base_uri": "https://localhost:8080/"
        },
        "id": "wNrlbpoxRDf5",
        "outputId": "7e0d6a64-2085-4aef-e9af-3b357377199a"
      },
      "execution_count": 15,
      "outputs": [
        {
          "output_type": "stream",
          "name": "stdout",
          "text": [
            "21.0 <class 'float'>\n"
          ]
        }
      ]
    },
    {
      "cell_type": "code",
      "source": [
        "print(tensor, '\\n')\n",
        "tensor.add_(5)\n",
        "print(tensor)"
      ],
      "metadata": {
        "colab": {
          "base_uri": "https://localhost:8080/"
        },
        "id": "k5DjCHkERNBM",
        "outputId": "6f04e803-3db7-4485-8076-5ad4260b1da2"
      },
      "execution_count": 16,
      "outputs": [
        {
          "output_type": "stream",
          "name": "stdout",
          "text": [
            "tensor([[1., 0., 1., 1.],\n",
            "        [3., 3., 3., 3.],\n",
            "        [1., 0., 1., 1.],\n",
            "        [1., 0., 1., 1.]]) \n",
            "\n",
            "tensor([[6., 5., 6., 6.],\n",
            "        [8., 8., 8., 8.],\n",
            "        [6., 5., 6., 6.],\n",
            "        [6., 5., 6., 6.]])\n"
          ]
        }
      ]
    },
    {
      "cell_type": "code",
      "source": [
        "t=torch.ones(5)\n",
        "print('tensor: ', t)\n",
        "n=t.numpy()\n",
        "print('numpy: ', n)"
      ],
      "metadata": {
        "colab": {
          "base_uri": "https://localhost:8080/"
        },
        "id": "CYTOIPV1SUgC",
        "outputId": "a523b6c7-4f30-4e19-f30c-a5c6cfc12db8"
      },
      "execution_count": 19,
      "outputs": [
        {
          "output_type": "stream",
          "name": "stdout",
          "text": [
            "tensor:  tensor([1., 1., 1., 1., 1.])\n",
            "numpy:  [1. 1. 1. 1. 1.]\n"
          ]
        }
      ]
    },
    {
      "cell_type": "code",
      "source": [
        "t.add_(1)\n",
        "print('tensor: ', t)\n",
        "print('numpy: ', n)"
      ],
      "metadata": {
        "colab": {
          "base_uri": "https://localhost:8080/"
        },
        "id": "CCguv3p-TUn5",
        "outputId": "c44848fb-946e-4807-fb07-39b5239d0414"
      },
      "execution_count": 20,
      "outputs": [
        {
          "output_type": "stream",
          "name": "stdout",
          "text": [
            "tensor:  tensor([2., 2., 2., 2., 2.])\n",
            "numpy:  [2. 2. 2. 2. 2.]\n"
          ]
        }
      ]
    },
    {
      "cell_type": "code",
      "source": [
        "n=np.ones(5)\n",
        "t=torch.from_numpy(n)"
      ],
      "metadata": {
        "id": "_8YdL5gNT2ya"
      },
      "execution_count": 21,
      "outputs": []
    },
    {
      "cell_type": "code",
      "source": [
        "np.add(n, 3, out=n)\n",
        "print('tensor: ', t)\n",
        "print('numpy:', n)"
      ],
      "metadata": {
        "colab": {
          "base_uri": "https://localhost:8080/"
        },
        "id": "wwgwjMAIT8EO",
        "outputId": "3e67ab01-2180-48fb-a383-46c827f8ba26"
      },
      "execution_count": 22,
      "outputs": [
        {
          "output_type": "stream",
          "name": "stdout",
          "text": [
            "tensor:  tensor([4., 4., 4., 4., 4.], dtype=torch.float64)\n",
            "numpy: [4. 4. 4. 4. 4.]\n"
          ]
        }
      ]
    },
    {
      "cell_type": "code",
      "source": [
        "predicted_probability_p=[0.8, 0.2, 0.6]\n",
        "true_label_t=[1.0, 0, 0]\n",
        "import numpy as np\n",
        "BCE_0=-true_label_t[0]*np.log(predicted_probability_p[0])\n",
        "BCE_1=-(1-true_label_t[1])*np.log(1-predicted_probability_p[1])\n",
        "BCE_2=-(1-true_label_t[2])*np.log(1-predicted_probability_p[2])\n",
        "print(BCE_0, BCE_1, BCE_2)"
      ],
      "metadata": {
        "colab": {
          "base_uri": "https://localhost:8080/"
        },
        "id": "PmnIGJ_LUEvS",
        "outputId": "27ccc646-84c7-4c98-c6b1-9c9c4a271923"
      },
      "execution_count": 1,
      "outputs": [
        {
          "output_type": "stream",
          "name": "stdout",
          "text": [
            "0.2231435513142097 0.2231435513142097 0.916290731874155\n"
          ]
        }
      ]
    },
    {
      "cell_type": "code",
      "source": [
        "np.mean([BCE_0, BCE_1, BCE_2])"
      ],
      "metadata": {
        "colab": {
          "base_uri": "https://localhost:8080/"
        },
        "id": "bIgukzRpq42d",
        "outputId": "c26b98de-8d61-48e9-a937-356f1ca8129b"
      },
      "execution_count": 2,
      "outputs": [
        {
          "output_type": "execute_result",
          "data": {
            "text/plain": [
              "0.45419261150085816"
            ]
          },
          "metadata": {},
          "execution_count": 2
        }
      ]
    },
    {
      "cell_type": "code",
      "source": [
        "import torch\n",
        "import torch.nn as nn\n",
        "\n",
        "loss=nn.BCELoss()\n",
        "p_tensor=torch.tensor(predicted_probability_p)\n",
        "t_tensor=torch.tensor(true_label_t)\n",
        "loss(p_tensor, t_tensor)"
      ],
      "metadata": {
        "colab": {
          "base_uri": "https://localhost:8080/"
        },
        "id": "1y1on5r-q_fR",
        "outputId": "ed3889e8-0f62-4b48-907b-d41669e859b1"
      },
      "execution_count": 3,
      "outputs": [
        {
          "output_type": "execute_result",
          "data": {
            "text/plain": [
              "tensor(0.4542)"
            ]
          },
          "metadata": {},
          "execution_count": 3
        }
      ]
    },
    {
      "cell_type": "code",
      "source": [
        "import matplotlib.pyplot as plt\n",
        "def sigmoid(x):\n",
        "  return 1/(1+np.exp(-x))\n",
        "def sigmoid_prime(x):\n",
        "  return (np.exp(x))/((1+np.exp(x))**2)\n",
        "def tanh(x):\n",
        "  return (np.exp(x)-np.exp(-x))/(np.exp(x)+np.exp(-x))\n",
        "def tanh_prime(x):\n",
        "  return 4 / (np.exp(x)+np.exp(-x))**2\n",
        "\n",
        "\n",
        "x=np.linspace(-6, 6, 256)\n",
        "fig=plt.figure(figsize=(12, 6))\n",
        "\n",
        "ax1=fig.add_subplot(121)\n",
        "ax1.set_title('Sigmoid and Sigmoid_prime', size=16)\n",
        "ax1.set_xlabel('x', size=16)\n",
        "ax1.set_ylabel('y', size=16)\n",
        "ax1.grid(axis='both')\n",
        "ax1.set_ylim(-1.1,1.1)\n",
        "\n",
        "ax1.plot(x, sigmoid(x), color='#1f77b4', label='sigmoid')\n",
        "ax1.plot(x, sigmoid_prime(x), color='#ff7f0e', label='sigmoid_prime')\n",
        "\n",
        "ax2=fig.add_subplot(122)\n",
        "ax2.set_title('tanh and tanh_prime', size=16)\n",
        "ax2.set_xlabel('x', size=16)\n",
        "ax2.set_ylabel('y', size=16)\n",
        "ax2.grid(axis='both')\n",
        "ax2.set_ylim(-1.1, 1.1)\n",
        "\n",
        "ax2.plot(x, tanh(x), color='#1f77b4', label='tanh')\n",
        "ax2.plot(x, tanh_prime(x), color='#ff7f0e', label='tanh_prime')\n",
        "ax2.legend()\n",
        "\n",
        "\n",
        "\n"
      ],
      "metadata": {
        "colab": {
          "base_uri": "https://localhost:8080/",
          "height": 374
        },
        "id": "HIF0lQB-r69z",
        "outputId": "480b68fe-77a3-4616-cee8-89e9e5fb4965"
      },
      "execution_count": 15,
      "outputs": [
        {
          "output_type": "execute_result",
          "data": {
            "text/plain": [
              "<matplotlib.legend.Legend at 0x7f704d362080>"
            ]
          },
          "metadata": {},
          "execution_count": 15
        },
        {
          "output_type": "display_data",
          "data": {
            "text/plain": [
              "<Figure size 1200x600 with 2 Axes>"
            ],
            "image/png": "[encoded data removed]"
          },
          "metadata": {}
        }
      ]
    },
    {
      "cell_type": "code",
      "source": [
        "def ReLU(x):\n",
        "  return np.maximum(0, x)\n",
        "\n",
        "def ReLU_prime(x):\n",
        "  return np.where(x>0, 1, 0)\n",
        "\n",
        "x=np.linspace(-6, 6, 256)\n",
        "fig=plt.figure(figsize=(6,6))\n",
        "\n",
        "ax=fig.add_subplot(111)\n",
        "ax.set_title('ReLU and ReLU_prime', size=16)\n",
        "ax.set_xlabel('x', size=16)\n",
        "ax.set_ylabel('y', size=16)\n",
        "ax.grid(axis='both')\n",
        "\n",
        "ax.plot(x, ReLU(x), color='#1f77b4', label='ReLU')\n",
        "ax.plot(x, ReLU_prime(x), color='#ff7f0e', label='ReLU_prime')\n",
        "ax.legend()"
      ],
      "metadata": {
        "colab": {
          "base_uri": "https://localhost:8080/",
          "height": 589
        },
        "id": "bqoR4gfW1VIF",
        "outputId": "07c9c101-4cab-4e9f-cbc9-c5597a401a99"
      },
      "execution_count": 17,
      "outputs": [
        {
          "output_type": "execute_result",
          "data": {
            "text/plain": [
              "<matplotlib.legend.Legend at 0x7f704cfa18d0>"
            ]
          },
          "metadata": {},
          "execution_count": 17
        },
        {
          "output_type": "display_data",
          "data": {
            "text/plain": [
              "<Figure size 600x600 with 1 Axes>"
            ],
            "image/png": "[encoded data removed]"
          },
          "metadata": {}
        }
      ]
    },
    {
      "cell_type": "code",
      "source": [
        "import pandas as pd\n",
        "\n",
        "gse_mRNA_exprs_normal_selected=pd.read_csv('/content/GSE36376_normal.csv', index_col=0)\n",
        "gse_mRNA_exprs_tumor_selected=pd.read_csv('/content/GSE36376_tumor.csv', index_col=0)\n",
        "\n",
        "gse_mRNA_exprs_normal_selected.loc['class']=0\n",
        "gse_mRNA_exprs_tumor_selected.loc['class']=1\n",
        "\n",
        "from sklearn.model_selection import train_test_split\n",
        "\n",
        "gse_mRNA_exprs_normal_selected_trainval, gse_mRNA_exprs_normal_selected_test=train_test_split(gse_mRNA_exprs_normal_selected.T, train_size=0.75, random_state=0)\n",
        "gse_mRNA_exprs_tumor_selected_trainval, gse_mRNA_exprs_tumor_selected_test=train_test_split(gse_mRNA_exprs_tumor_selected.T, train_size=0.75, random_state=0)\n",
        "\n",
        "gse_mRNA_exprs_normal_selected_train, gse_mRNA_exprs_normal_selected_val = train_test_split(gse_mRNA_exprs_normal_selected_trainval, train_size=0.667, random_state=0)\n",
        "gse_mRNA_exprs_tumor_selected_train, gse_mRNA_exprs_tumor_selected_val = train_test_split(gse_mRNA_exprs_tumor_selected_trainval, train_size=0.667, random_state=0)\n",
        "\n",
        "gse_mRNA_exprs_train=pd.concat([gse_mRNA_exprs_normal_selected_train, gse_mRNA_exprs_tumor_selected_train])\n",
        "X_train=gse_mRNA_exprs_train.iloc[:, 0:-1]\n",
        "y_train=gse_mRNA_exprs_train.iloc[:, -1]\n",
        "\n",
        "gse_mRNA_exprs_val=pd.concat([gse_mRNA_exprs_normal_selected_val, gse_mRNA_exprs_tumor_selected_val])\n",
        "X_val=gse_mRNA_exprs_val.iloc[:, 0:-1]\n",
        "y_val=gse_mRNA_exprs_val.iloc[:, -1]\n",
        "\n",
        "gse_mRNA_exprs_test=pd.concat([gse_mRNA_exprs_normal_selected_test, gse_mRNA_exprs_tumor_selected_test])\n",
        "X_test=gse_mRNA_exprs_test.iloc[:, 0:-1]\n",
        "y_test=gse_mRNA_exprs_test.iloc[:, -1]\n",
        "\n",
        "from sklearn.preprocessing import StandardScaler\n",
        "\n",
        "sc=StandardScaler()\n",
        "sc.fit(X_train)\n",
        "\n",
        "X_train_std=sc.transform(X_train)\n",
        "X_val_std=sc.transform(X_val)\n",
        "X_test_std=sc.transform(X_test)"
      ],
      "metadata": {
        "id": "_9InFv_E36YB"
      },
      "execution_count": 6,
      "outputs": []
    },
    {
      "cell_type": "code",
      "source": [
        "import torch\n",
        "torch.manual_seed(42)\n",
        "torch.cuda.manual_seed(42)\n",
        "torch.backends.cudnn.deterministic=True\n",
        "torch.use_deterministic_algorithms=True"
      ],
      "metadata": {
        "id": "Ebn8oBW8Hq0l"
      },
      "execution_count": 8,
      "outputs": []
    },
    {
      "cell_type": "code",
      "source": [
        "from torch.utils.data import DataLoader, Dataset\n",
        "class TrainValData(Dataset):\n",
        "  def __init__(self, X_data, y_data):\n",
        "    self.X_data=X_data\n",
        "    self.y_data=y_data\n",
        "  def __getitem__(self, index):\n",
        "    return self.X_data[index], self.y_data[index]\n",
        "  def __len__(self):\n",
        "    return len(self.X_data)\n",
        "\n",
        "class TestData(Dataset):\n",
        "  def __init__(self, X_data):\n",
        "    self.X_data=X_data\n",
        "  def __getitem__(self, index):\n",
        "    return self.X_data[index]\n",
        "  def __len__(self):\n",
        "    return len(self.X_data)\n",
        "\n",
        "train_data=TrainValData(torch.FloatTensor(X_train_std), torch.FloatTensor(y_train))\n",
        "val_data=TrainValData(torch.FloatTensor(X_val_std), torch.FloatTensor(y_val))\n",
        "test_data=TestData(torch.FloatTensor(X_test_std))"
      ],
      "metadata": {
        "id": "OG1bGIi6H9Gh"
      },
      "execution_count": 10,
      "outputs": []
    },
    {
      "cell_type": "code",
      "source": [
        "BATCH_SIZE=64\n",
        "train_loader=DataLoader(dataset=train_data, batch_size=BATCH_SIZE, shuffle=True, drop_last=True)\n",
        "val_loader=DataLoader(dataset=val_data, batch_size=BATCH_SIZE)\n",
        "test_loader=DataLoader(dataset=test_data, batch_size=BATCH_SIZE)"
      ],
      "metadata": {
        "id": "EArgid7dJb9Y"
      },
      "execution_count": 11,
      "outputs": []
    },
    {
      "cell_type": "code",
      "source": [
        "import torch.nn as nn\n",
        "\n",
        "num_layers=3\n",
        "num_features=[32, 128, 64]\n",
        "\n",
        "class BinaryClassificationNet(nn.Module):\n",
        "  def __init__(self):\n",
        "    super(BinaryClassificationNet, self).__init__()\n",
        "    self.layers1=nn.Sequential(nn.Linear(in_features=13, out_features=num_features[0]), nn.BatchNorm1d(num_features[0]), nn.ReLU(),)\n",
        "    self.layers2=nn.Sequential(nn.Linear(in_features=num_features[0], out_features=num_features[1]), nn.BatchNorm1d(num_features[1]), nn.ReLU(),)\n",
        "    self.layers3=nn.Sequential(nn.Linear(in_features=num_features[1], out_features=num_features[2]), nn.BatchNorm1d(num_features[2]), nn.ReLU(),)\n",
        "    self.layers_out=nn.Linear(in_features=num_features[2], out_features=1)\n",
        "\n",
        "  def forward(self, x):\n",
        "    x=self.layers1(x)\n",
        "    x=self.layers2(x)\n",
        "    x=self.layers3(x)\n",
        "    x=self.layers_out(x)\n",
        "    return x"
      ],
      "metadata": {
        "id": "g0rgeoW2LBaA"
      },
      "execution_count": 12,
      "outputs": []
    },
    {
      "cell_type": "code",
      "source": [
        "import torch.optim as optim\n",
        "\n",
        "device=torch.device('cuda:0' if torch.cuda.is_available() else 'cpu')\n",
        "model=BinaryClassificationNet()\n",
        "model.to(device)\n",
        "\n",
        "print(model)\n",
        "\n",
        "loss_fn=nn.BCEWithLogitsLoss()\n",
        "LEARNING_RATE=0.001\n",
        "optimizer=optim.Adam(model.parameters(), lr=LEARNING_RATE)\n",
        "\n",
        "def binary_acc(y_true, y_pred):\n",
        "  correct=torch.eq(y_true, y_pred).sum().item()\n",
        "  acc=(correct/len(y_pred))*100\n",
        "  return acc"
      ],
      "metadata": {
        "colab": {
          "base_uri": "https://localhost:8080/"
        },
        "id": "x8MxT9IZP2vv",
        "outputId": "16fa37cd-1284-4603-b7b8-643b8f7731af"
      },
      "execution_count": 13,
      "outputs": [
        {
          "output_type": "stream",
          "name": "stdout",
          "text": [
            "BinaryClassificationNet(\n",
            "  (layers1): Sequential(\n",
            "    (0): Linear(in_features=13, out_features=32, bias=True)\n",
            "    (1): BatchNorm1d(32, eps=1e-05, momentum=0.1, affine=True, track_running_stats=True)\n",
            "    (2): ReLU()\n",
            "  )\n",
            "  (layers2): Sequential(\n",
            "    (0): Linear(in_features=32, out_features=128, bias=True)\n",
            "    (1): BatchNorm1d(128, eps=1e-05, momentum=0.1, affine=True, track_running_stats=True)\n",
            "    (2): ReLU()\n",
            "  )\n",
            "  (layers3): Sequential(\n",
            "    (0): Linear(in_features=128, out_features=64, bias=True)\n",
            "    (1): BatchNorm1d(64, eps=1e-05, momentum=0.1, affine=True, track_running_stats=True)\n",
            "    (2): ReLU()\n",
            "  )\n",
            "  (layers_out): Linear(in_features=64, out_features=1, bias=True)\n",
            ")\n"
          ]
        }
      ]
    },
    {
      "cell_type": "code",
      "source": [
        "EPOCHS=400\n",
        "model.train()\n",
        "\n",
        "train_loss_li=[]\n",
        "train_acc_li=[]\n",
        "val_loss_li=[]\n",
        "val_acc_li=[]\n",
        "\n",
        "for epoch in range(EPOCHS):\n",
        "  for X_batch_train, y_batch_train in train_loader:\n",
        "    X_batch_train, y_batch_train=X_batch_train.to(device), y_batch_train.to(device)\n",
        "    y_logits=model(X_batch_train).squeeze()\n",
        "    y_pred=torch.round(torch.sigmoid(y_logits))\n",
        "\n",
        "    loss=loss_fn(y_logits, y_batch_train)\n",
        "    acc =binary_acc(y_true=y_batch_train, y_pred=y_pred)\n",
        "\n",
        "    optimizer.zero_grad()\n",
        "    loss.backward()\n",
        "    optimizer.step()\n",
        "  model.eval()\n",
        "\n",
        "  with torch.no_grad():\n",
        "    for X_batch_val, y_batch_val in val_loader:\n",
        "      X_batch_val, y_batch_val=X_batch_val.to(device), y_batch_val.to(device)\n",
        "      val_logits=model(X_batch_val).squeeze()\n",
        "      val_pred=torch.round(torch.sigmoid(val_logits))\n",
        "      val_loss=loss_fn(val_logits, y_batch_val)\n",
        "      val_acc=binary_acc(y_true=y_batch_val, y_pred=val_pred)\n",
        "\n",
        "  if epoch % 20 ==0:\n",
        "    print(f'Epoch: {epoch}|Train_loss:{loss:.5f}, Train_acc:{acc:.2f}%')\n",
        "    print(f'Epoch: {epoch}|Val_loss:{val_loss:.5f}, Val_acc:{val_acc:.2f}%')\n",
        "\n",
        "  train_loss_li.append(loss.item())\n",
        "  train_acc_li.append(acc)\n",
        "  val_loss_li.append(val_loss.item())\n",
        "  val_acc_li.append(val_acc)"
      ],
      "metadata": {
        "colab": {
          "base_uri": "https://localhost:8080/"
        },
        "id": "eCFfbBuLSBPq",
        "outputId": "76c2796c-96bf-4df3-87cf-0e14d82160af"
      },
      "execution_count": 19,
      "outputs": [
        {
          "output_type": "stream",
          "name": "stdout",
          "text": [
            "Epoch: 0|Train_loss:0.00011, Train_acc:100.00%\n",
            "Epoch: 0|Val_loss:0.02866, Val_acc:97.73%\n",
            "Epoch: 20|Train_loss:0.00000, Train_acc:100.00%\n",
            "Epoch: 20|Val_loss:0.02724, Val_acc:97.73%\n",
            "Epoch: 40|Train_loss:0.00000, Train_acc:100.00%\n",
            "Epoch: 40|Val_loss:0.02980, Val_acc:97.73%\n",
            "Epoch: 60|Train_loss:0.00000, Train_acc:100.00%\n",
            "Epoch: 60|Val_loss:0.03233, Val_acc:97.73%\n",
            "Epoch: 80|Train_loss:0.00000, Train_acc:100.00%\n",
            "Epoch: 80|Val_loss:0.03764, Val_acc:97.73%\n",
            "Epoch: 100|Train_loss:0.00000, Train_acc:100.00%\n",
            "Epoch: 100|Val_loss:0.04110, Val_acc:97.73%\n",
            "Epoch: 120|Train_loss:0.00000, Train_acc:100.00%\n",
            "Epoch: 120|Val_loss:0.04467, Val_acc:97.73%\n",
            "Epoch: 140|Train_loss:0.00000, Train_acc:100.00%\n",
            "Epoch: 140|Val_loss:0.04451, Val_acc:97.73%\n",
            "Epoch: 160|Train_loss:0.00000, Train_acc:100.00%\n",
            "Epoch: 160|Val_loss:0.04501, Val_acc:97.73%\n",
            "Epoch: 180|Train_loss:0.00000, Train_acc:100.00%\n",
            "Epoch: 180|Val_loss:0.04768, Val_acc:97.73%\n",
            "Epoch: 200|Train_loss:0.00000, Train_acc:100.00%\n",
            "Epoch: 200|Val_loss:0.05079, Val_acc:97.73%\n",
            "Epoch: 220|Train_loss:0.00000, Train_acc:100.00%\n",
            "Epoch: 220|Val_loss:0.04940, Val_acc:97.73%\n",
            "Epoch: 240|Train_loss:0.00000, Train_acc:100.00%\n",
            "Epoch: 240|Val_loss:0.05205, Val_acc:97.73%\n",
            "Epoch: 260|Train_loss:0.00000, Train_acc:100.00%\n",
            "Epoch: 260|Val_loss:0.05464, Val_acc:97.73%\n",
            "Epoch: 280|Train_loss:0.00000, Train_acc:100.00%\n",
            "Epoch: 280|Val_loss:0.05553, Val_acc:97.73%\n",
            "Epoch: 300|Train_loss:0.00000, Train_acc:100.00%\n",
            "Epoch: 300|Val_loss:0.05743, Val_acc:97.73%\n",
            "Epoch: 320|Train_loss:0.00000, Train_acc:100.00%\n",
            "Epoch: 320|Val_loss:0.05781, Val_acc:97.73%\n",
            "Epoch: 340|Train_loss:0.00000, Train_acc:100.00%\n",
            "Epoch: 340|Val_loss:0.05887, Val_acc:97.73%\n",
            "Epoch: 360|Train_loss:0.00000, Train_acc:100.00%\n",
            "Epoch: 360|Val_loss:0.06193, Val_acc:97.73%\n",
            "Epoch: 380|Train_loss:0.00000, Train_acc:100.00%\n",
            "Epoch: 380|Val_loss:0.06646, Val_acc:97.73%\n"
          ]
        }
      ]
    },
    {
      "cell_type": "code",
      "source": [
        "import matplotlib.pyplot as plt\n",
        "fig=plt.figure(figsize=(10,6))\n",
        "ax1=fig.add_subplot(121)\n",
        "ax1.set_ylabel('loss', size=16)\n",
        "ax1.plot(train_loss_li, label='train_loss')\n",
        "ax1.plot(val_loss_li, color='#ff7f0e', label=('val_loss'))\n",
        "ax1.axvline(x=100, color='#2ca02c')\n",
        "ax1.legend()\n",
        "\n",
        "ax2=fig.add_subplot(122)\n",
        "ax2.set_ylabel('acc', size=16)\n",
        "ax2.plot(train_acc_li, label='train_acc')\n",
        "ax2.plot(val_acc_li, color='#ff7f0e', label='val_acc')\n",
        "ax2.axvline(x=100, color='#2ca02c')\n",
        "ax2.legend()\n",
        "\n",
        "plt.show()"
      ],
      "metadata": {
        "colab": {
          "base_uri": "https://localhost:8080/",
          "height": 385
        },
        "id": "_gWNITCZWNBl",
        "outputId": "01bd85f2-e087-4720-e032-12240c25d91e"
      },
      "execution_count": 20,
      "outputs": [
        {
          "output_type": "display_data",
          "data": {
            "text/plain": [
              "<Figure size 1000x600 with 2 Axes>"
            ],
            "image/png": "[encoded data removed]"
          },
          "metadata": {}
        }
      ]
    }
  ]
}